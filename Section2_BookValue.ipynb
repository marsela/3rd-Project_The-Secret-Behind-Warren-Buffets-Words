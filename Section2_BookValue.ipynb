{
 "cells": [
  {
   "cell_type": "markdown",
   "metadata": {},
   "source": [
    "\n",
    "# Section 2 - Book Value Predictions\n",
    "\n",
    "### Filter Methods\n",
    "\n",
    "#### Part A -  Feature Extraction\n",
    "The following feature extraction stragetices are \n",
    "\n",
    "* **Principal Component Analysis** — In PCA, new independent \n",
    "\n"
   ]
  },
  {
   "cell_type": "markdown",
   "metadata": {},
   "source": [
    "## Classification Model"
   ]
  },
  {
   "cell_type": "markdown",
   "metadata": {},
   "source": [
    "### Converting the Annual reports into a \"Bag of Words\" dataset"
   ]
  },
  {
   "cell_type": "code",
   "execution_count": 1,
   "metadata": {},
   "outputs": [
    {
     "name": "stdout",
     "output_type": "stream",
     "text": [
      "1977\n",
      "1978\n",
      "1979\n",
      "1980\n",
      "1981\n",
      "1982\n",
      "1983\n",
      "1984\n",
      "1985\n",
      "1986\n",
      "1987\n",
      "1988\n",
      "1989\n",
      "1990\n",
      "1991\n",
      "1992\n",
      "1993\n",
      "1994\n",
      "1995\n",
      "1996\n",
      "1997\n",
      "1998\n",
      "1999\n",
      "2000\n",
      "2001\n",
      "2002\n",
      "2003\n",
      "2004\n",
      "2005\n",
      "2006\n",
      "2007\n",
      "2008\n",
      "2009\n",
      "2010\n",
      "2011\n",
      "2012\n",
      "2013\n",
      "2014\n",
      "2015\n",
      "2016\n"
     ]
    }
   ],
   "source": [
    "############################## SCRAPE FROM WEB AND APPEND TXT FILES\n",
    "import requests\n",
    "from bs4 import BeautifulSoup\n",
    "import sys\n",
    "import csv\n",
    "\n",
    "filename = 'complete.csv'\n",
    "\n",
    "def appender(_row):\n",
    "    with open(filename, \"a+\", newline='', encoding='utf-8', errors='ignore') as out:\n",
    "        writer = csv.writer(out)\n",
    "        writer.writerow(_row)\n",
    "    return True\n",
    "\n",
    "appender([\"Year\", \"Content\"])\n",
    "\n",
    "for year in range(1977, 2003 + 1):\n",
    "    print(year)\n",
    "    data = BeautifulSoup(requests.get(\"http://www.berkshirehathaway.com/letters/{}.html\".format(year)).content, 'html.parser')\n",
    "    data = data.find('body').get_text()\n",
    "    appender([year, data])\n",
    "\n",
    "for year in range(2004, 2016 + 1):\n",
    "    print(year)\n",
    "    appender([year, open(\"{}.txt\".format(year), encoding='utf-8', errors='ignore').read()])\n"
   ]
  },
  {
   "cell_type": "code",
   "execution_count": 2,
   "metadata": {},
   "outputs": [
    {
     "name": "stdout",
     "output_type": "stream",
     "text": [
      "list index out of range\n",
      "['1965', 23.8, 49.5, 10.0, 20.3, -3.4, 1, 1, 4, -1]\n",
      "['1966', 20.3, -3.4, -11.7, 11.0, 13.3, 0, 0, 2, 2]\n",
      "['1967', 11.0, 13.3, 30.9, 19.0, 77.8, 1, 1, 3, 4]\n",
      "['1968', 19.0, 77.8, 11.0, 16.2, 19.4, 1, 1, 3, 3]\n",
      "['1969', 16.2, 19.4, -8.4, 12.0, -4.6, 1, 0, 2, -1]\n",
      "['1970', 12.0, -4.6, 3.9, 16.4, 80.5, 1, 1, 3, 4]\n",
      "['1971', 16.4, 80.5, 14.6, 21.7, 8.1, 1, 0, 4, 1]\n",
      "['1972', 21.7, 8.1, 18.9, 4.7, -2.5, 1, 1, 0, -1]\n",
      "['1973', 4.7, -2.5, -14.8, 5.5, -48.7, 1, 0, 1, -1]\n",
      "['1974', 5.5, -48.7, -26.4, 21.9, 2.5, 0, 0, 4, 0]\n",
      "['1975', 21.9, 2.5, 37.2, 59.3, 129.3, 1, 1, 4, 4]\n",
      "['1976', 59.3, 129.3, 23.6, 31.9, 46.8, 1, 1, 4, 4]\n",
      "['1977', 31.9, 46.8, -7.4, 24.0, 14.5, 1, 1, 4, 2]\n",
      "['1978', 24.0, 14.5, 6.4, 35.7, 102.5, 1, 1, 4, 4]\n",
      "['1979', 35.7, 102.5, 18.2, 19.3, 32.8, 0, 1, 3, 4]\n",
      "['1980', 19.3, 32.8, 32.3, 31.4, 31.8, 1, 1, 4, 4]\n",
      "['1981', 31.4, 31.8, -5.0, 40.0, 38.4, 1, 1, 4, 4]\n",
      "['1982', 40.0, 38.4, 21.4, 32.3, 69.0, 1, 1, 4, 4]\n",
      "['1983', 32.3, 69.0, 22.4, 13.6, -2.7, 1, 0, 2, -1]\n",
      "['1984', 13.6, -2.7, 6.1, 48.2, 93.7, 1, 1, 4, 4]\n",
      "['1985', 48.2, 93.7, 31.6, 26.1, 14.2, 1, 0, 4, 2]\n",
      "['1986', 26.1, 14.2, 18.6, 19.5, 4.6, 1, 0, 3, 0]\n",
      "['1987', 19.5, 4.6, 5.1, 20.1, 59.3, 1, 1, 4, 4]\n",
      "['1988', 20.1, 59.3, 16.6, 44.4, 84.6, 1, 1, 4, 4]\n",
      "['1989', 44.4, 84.6, 31.7, 7.4, -23.1, 1, 0, 1, -1]\n",
      "['1990', 7.4, -23.1, -3.1, 39.6, 35.6, 1, 1, 4, 4]\n",
      "['1991', 39.6, 35.6, 30.5, 20.3, 29.8, 1, 1, 4, 4]\n",
      "['1992', 20.3, 29.8, 7.6, 14.3, 38.9, 1, 1, 2, 4]\n",
      "['1993', 14.3, 38.9, 10.1, 13.9, 25.0, 1, 1, 2, 4]\n",
      "['1994', 13.9, 25.0, 1.3, 43.1, 57.4, 1, 1, 4, 4]\n",
      "['1995', 43.1, 57.4, 37.6, 31.8, 6.2, 1, 0, 4, 1]\n",
      "['1996', 31.8, 6.2, 23.0, 34.1, 34.9, 1, 1, 4, 4]\n",
      "['1997', 34.1, 34.9, 33.4, 48.3, 52.2, 1, 1, 4, 4]\n",
      "['1998', 48.3, 52.2, 28.6, 0.5, -19.9, 0, 0, 0, -1]\n",
      "['1999', 0.5, -19.9, 21.0, 6.5, 26.6, 1, 1, 1, 4]\n",
      "['2000', 6.5, 26.6, -9.1, -6.2, 6.5, 1, 1, -1, 1]\n",
      "['2001', -6.2, 6.5, -11.9, 10.0, -3.8, 1, 1, 1, -1]\n",
      "['2002', 10.0, -3.8, -22.1, 21.0, 15.8, 0, 0, 4, 3]\n",
      "['2003', 21.0, 15.8, 28.7, 10.5, 4.3, 0, 0, 2, 0]\n",
      "['2004', 10.5, 4.3, 10.9, 6.4, 0.8, 1, 0, 1, 0]\n",
      "['2005', 6.4, 0.8, 4.9, 18.4, 24.1, 1, 1, 3, 4]\n",
      "['2006', 18.4, 24.1, 15.8, 11.0, 28.7, 1, 1, 2, 4]\n",
      "['2007', 11.0, 28.7, 5.5, -9.6, -31.8, 1, 1, -1, -1]\n",
      "['2008', -9.6, -31.8, -37.0, 19.8, 2.7, 0, 0, 3, 0]\n",
      "['2009', 19.8, 2.7, 26.5, 13.0, 21.4, 0, 1, 2, 4]\n",
      "['2010', 13.0, 21.4, 15.1, 4.6, -4.7, 1, 0, 0, -1]\n",
      "['2011', 4.6, -4.7, 2.1, 14.4, 16.8, 0, 1, 2, 3]\n",
      "['2012', 14.4, 16.8, 16.0, 18.2, 32.7, 0, 1, 3, 4]\n",
      "['2013', 18.2, 32.7, 32.4, 8.3, 27.0, 0, 1, 1, 4]\n",
      "['2014', 8.3, 27.0, 13.7, 6.4, -12.5, 1, 0, 1, -1]\n",
      "['2015', 6.4, -12.5, 1.4, 10.7, 23.4, 0, 1, 2, 4]\n",
      "['2016', 10.7, 23.4, 12.0]\n"
     ]
    }
   ],
   "source": [
    "########### Format and Create Response Variable\n",
    "\n",
    "\n",
    "import csv\n",
    "\n",
    "\n",
    "def process_data(data):\n",
    "    _step_1_data = []\n",
    "    for ind, row in enumerate(data):\n",
    "        try:\n",
    "            row += data[ind + 1][1:3]\n",
    "            _step_1_data.append(row)\n",
    "        except:\n",
    "            _step_1_data.append(row)\n",
    "\n",
    "    _step_2_data = []\n",
    "    for ind, r in enumerate(_step_1_data):\n",
    "        try:\n",
    "            if _step_1_data[ind + 1][1] >= _step_1_data[ind + 1][3]:\n",
    "                r.append(1)\n",
    "            else:\n",
    "                r.append(0)\n",
    "\n",
    "            if _step_1_data[ind + 1][2] >= _step_1_data[ind + 1][3]:\n",
    "                r.append(1)\n",
    "            else:\n",
    "                r.append(0)\n",
    "\n",
    "            _step_2_data.append(r)\n",
    "        except Exception as e:\n",
    "            print(e)\n",
    "            _step_2_data.append(r)\n",
    "\n",
    "    _step_3_data = []\n",
    "\n",
    "    for ind, r in enumerate(_step_2_data):\n",
    "        try:\n",
    "            r.append(calculate_val(_step_2_data[ind + 1][1]))\n",
    "            r.append(calculate_val(_step_2_data[ind + 1][2]))\n",
    "            _step_3_data.append(r)\n",
    "        except:\n",
    "            _step_3_data.append(r)\n",
    "\n",
    "    return _step_3_data\n",
    "\n",
    "\n",
    "def calculate_val(v):\n",
    "    if v < 0:\n",
    "        return -1\n",
    "    elif 0 < v < 5:\n",
    "        return 0\n",
    "    elif 5 < v < 10.001:\n",
    "        return 1\n",
    "    elif 10.001 < v < 15:\n",
    "        return 2\n",
    "    elif 15 < v < 20:\n",
    "        return 3\n",
    "    else:\n",
    "        return 4\n",
    "\n",
    "\n",
    "if __name__ == '__main__':\n",
    "    file_name = 'return.csv'\n",
    "\n",
    "    data = []\n",
    "    # load the csv file\n",
    "    for row in csv.reader(open(file_name)):\n",
    "        #print(row)\n",
    "        data.append(row)\n",
    "    # remove the header\n",
    "    header = data[0]\n",
    "    valid_data = []\n",
    "    # convert the string type data into float for processing\n",
    "    for row in data[1:]:\n",
    "        _r = [row[0]]\n",
    "        _r += [float(x) for x in row[1:]]\n",
    "        valid_data.append(_r)\n",
    "    # call the working function and pint the results\n",
    "    for r in process_data(valid_data):\n",
    "        print(r)"
   ]
  },
  {
   "cell_type": "code",
   "execution_count": 3,
   "metadata": {
    "collapsed": true
   },
   "outputs": [],
   "source": [
    "import pandas as pd\n",
    "col_name = ['Year',\t'BV Return',\t'MV Return',\t'S&P',\t'NextYearBVReturn',\t'NextYearMVReturn',\t'BVBeatS&P',\t'MVBeatS&P',\t'Performance_Category_BV',\t'Performance_Category_MV']\n",
    "dataset = pd.DataFrame(valid_data,columns=col_name)\n",
    "dataset.to_csv('return_plus.csv')"
   ]
  },
  {
   "cell_type": "code",
   "execution_count": 4,
   "metadata": {
    "collapsed": true
   },
   "outputs": [],
   "source": [
    "\n",
    "########### BEGIN NATURAL LANGUAGE PROCESSING\n",
    "\n",
    "import pandas as pd\n",
    "import numpy as np\n",
    "import matplotlib.pyplot as plt\n",
    "\n",
    "\n",
    "#Import data\n",
    "dataset = pd.read_csv('complete.csv')\n",
    "target = pd.read_csv('return_plus.csv') #col = 8, 9 <-original 9 and 10\n",
    "\n"
   ]
  },
  {
   "cell_type": "code",
   "execution_count": 5,
   "metadata": {},
   "outputs": [
    {
     "data": {
      "text/plain": [
       "(40, 2)"
      ]
     },
     "execution_count": 5,
     "metadata": {},
     "output_type": "execute_result"
    }
   ],
   "source": [
    "dataset.shape"
   ]
  },
  {
   "cell_type": "code",
   "execution_count": 6,
   "metadata": {},
   "outputs": [
    {
     "name": "stdout",
     "output_type": "stream",
     "text": [
      "[nltk_data] Downloading package stopwords to\n",
      "[nltk_data]     C:\\Users\\volak\\AppData\\Roaming\\nltk_data...\n",
      "[nltk_data]   Package stopwords is already up-to-date!\n"
     ]
    }
   ],
   "source": [
    "#Cleaning the text\n",
    "import re\n",
    "import nltk\n",
    "nltk.download('stopwords')\n",
    "from nltk.corpus import stopwords\n",
    "from nltk.stem.porter import PorterStemmer"
   ]
  },
  {
   "cell_type": "code",
   "execution_count": 7,
   "metadata": {
    "collapsed": true
   },
   "outputs": [],
   "source": [
    "n_rows = dataset.shape[0]\n",
    "\n",
    "\n",
    "# Create a For Loop to do this to all reviews \n",
    "corpus = []\n",
    "for i in range (0, n_rows):\n",
    "    review= re.sub('[^a-zA-Z]',' ', dataset['Content'][i])\n",
    "    review = review.lower()\n",
    "    review = review.split() \n",
    "    ps=PorterStemmer()\n",
    "    review = [ps.stem(word) for word in review if not word in set(stopwords.words('english'))]\n",
    "    review = ' '.join(review) \n",
    "    corpus.append(review)"
   ]
  },
  {
   "cell_type": "code",
   "execution_count": 8,
   "metadata": {
    "collapsed": true
   },
   "outputs": [],
   "source": [
    "# Bag of Words Model\n",
    "from sklearn.feature_extraction.text import CountVectorizer\n",
    "cv = CountVectorizer()\n",
    "X_prep = cv.fit_transform(corpus).toarray()\n",
    "X = X_prep[:-1,:] #Because we are predicting next year we do not yet have results for the last row, but can use this as a predictor\n"
   ]
  },
  {
   "cell_type": "code",
   "execution_count": 9,
   "metadata": {
    "collapsed": true
   },
   "outputs": [],
   "source": [
    "#Set Response / Target Feature\n",
    "target.columns\n",
    "'''  \n",
    "The ones we will run are 'MVBeatS&P'\n",
    "                         'BVBeatS&P' \n",
    "                         'NextYearMVReturn'\n",
    "                         'NextYearBVReturn'\n",
    "                         \n",
    "'''\n",
    "response = target['BVBeatS&P']\n",
    "response = pd.DataFrame(response)\n",
    "y = response.iloc[12:-1,:].values"
   ]
  },
  {
   "cell_type": "code",
   "execution_count": 10,
   "metadata": {
    "collapsed": true,
    "scrolled": true
   },
   "outputs": [],
   "source": [
    "# Splitting the dataset into the Training set and Test set\n",
    "from sklearn.model_selection import train_test_split\n",
    "X_train, X_test, y_train, y_test = train_test_split(X, y, test_size = 0.40, random_state = 0)\n",
    "\n",
    "\n"
   ]
  },
  {
   "cell_type": "markdown",
   "metadata": {},
   "source": [
    "## Fitting Classification ML Algorithms"
   ]
  },
  {
   "cell_type": "code",
   "execution_count": 11,
   "metadata": {},
   "outputs": [
    {
     "name": "stderr",
     "output_type": "stream",
     "text": [
      "C:\\Users\\volak\\Anaconda3\\lib\\site-packages\\sklearn\\utils\\validation.py:526: DataConversionWarning: A column-vector y was passed when a 1d array was expected. Please change the shape of y to (n_samples, ), for example using ravel().\n",
      "  y = column_or_1d(y, warn=True)\n"
     ]
    }
   ],
   "source": [
    "######################################### Fitting Naive Bayes to the Training set\n",
    "from sklearn.naive_bayes import GaussianNB\n",
    "classifier = GaussianNB()\n",
    "classifier.fit(X_train, y_train)\n",
    "\n",
    "# Predicting the Test set results\n",
    "y_pred = classifier.predict(X_test)"
   ]
  },
  {
   "cell_type": "code",
   "execution_count": 12,
   "metadata": {
    "collapsed": true,
    "scrolled": true
   },
   "outputs": [],
   "source": [
    "# Making the Confusion Matrix\n",
    "import scipy.stats as stats\n",
    "import sklearn\n",
    "from sklearn.metrics import confusion_matrix\n",
    "cm = confusion_matrix(y_test, y_pred)\n"
   ]
  },
  {
   "cell_type": "code",
   "execution_count": 13,
   "metadata": {},
   "outputs": [
    {
     "name": "stdout",
     "output_type": "stream",
     "text": [
      "0.6875\n",
      "0.714285714286\n",
      "0.909090909091\n",
      "0.8\n"
     ]
    }
   ],
   "source": [
    "# Get the Accuracy, Precision and Recall Score\n",
    "from sklearn.metrics import accuracy_score, precision_score, recall_score, f1_score\n",
    "print(accuracy_score(y_test, y_pred))\n",
    "print(precision_score(y_test, y_pred))\n",
    "print(recall_score(y_test, y_pred))\n",
    "print(f1_score(y_test,y_pred))"
   ]
  },
  {
   "cell_type": "code",
   "execution_count": 14,
   "metadata": {},
   "outputs": [
    {
     "name": "stdout",
     "output_type": "stream",
     "text": [
      "[ 1.]\n"
     ]
    }
   ],
   "source": [
    "############## Predicting Next Years Results\n",
    "X_2017 = X_prep[39:,:]\n",
    "# Predicting the Test set results\n",
    "y_pred = classifier.predict(X_2017)\n",
    "print(y_pred)"
   ]
  },
  {
   "cell_type": "code",
   "execution_count": null,
   "metadata": {
    "collapsed": true
   },
   "outputs": [],
   "source": []
  },
  {
   "cell_type": "code",
   "execution_count": 15,
   "metadata": {},
   "outputs": [
    {
     "name": "stderr",
     "output_type": "stream",
     "text": [
      "C:\\Users\\volak\\Anaconda3\\lib\\site-packages\\ipykernel_launcher.py:4: DataConversionWarning: A column-vector y was passed when a 1d array was expected. Please change the shape of y to (n_samples,), for example using ravel().\n",
      "  after removing the cwd from sys.path.\n"
     ]
    },
    {
     "data": {
      "text/plain": [
       "RandomForestClassifier(bootstrap=True, class_weight=None, criterion='entropy',\n",
       "            max_depth=None, max_features='auto', max_leaf_nodes=None,\n",
       "            min_impurity_split=1e-07, min_samples_leaf=1,\n",
       "            min_samples_split=2, min_weight_fraction_leaf=0.0,\n",
       "            n_estimators=2000, n_jobs=1, oob_score=False, random_state=0,\n",
       "            verbose=0, warm_start=False)"
      ]
     },
     "execution_count": 15,
     "metadata": {},
     "output_type": "execute_result"
    }
   ],
   "source": [
    "############################ Fitting Random Forest Classification to the Training set\n",
    "from sklearn.ensemble import RandomForestClassifier\n",
    "classifier = RandomForestClassifier(n_estimators = 2000, criterion = 'entropy', random_state = 0)\n",
    "classifier.fit(X_train, y_train)\n"
   ]
  },
  {
   "cell_type": "code",
   "execution_count": 16,
   "metadata": {
    "collapsed": true
   },
   "outputs": [],
   "source": [
    "# Predicting the Test set results\n",
    "y_pred = classifier.predict(X_test)\n"
   ]
  },
  {
   "cell_type": "code",
   "execution_count": 17,
   "metadata": {
    "collapsed": true
   },
   "outputs": [],
   "source": [
    "# Making the Confusion Matrix\n",
    "from sklearn.metrics import confusion_matrix, precision_score, accuracy_score\n",
    "cm = confusion_matrix(y_test, y_pred)\n",
    "\n"
   ]
  },
  {
   "cell_type": "code",
   "execution_count": 18,
   "metadata": {},
   "outputs": [
    {
     "name": "stdout",
     "output_type": "stream",
     "text": [
      "0.75\n",
      "0.733333333333\n",
      "1.0\n",
      "0.846153846154\n"
     ]
    }
   ],
   "source": [
    "# Get the Accuracy, Precision and Recall Score\n",
    "from sklearn.metrics import accuracy_score, precision_score, recall_score, f1_score\n",
    "print(accuracy_score(y_test, y_pred))\n",
    "print(precision_score(y_test, y_pred))\n",
    "print(recall_score(y_test, y_pred))\n",
    "print(f1_score(y_test,y_pred))"
   ]
  },
  {
   "cell_type": "code",
   "execution_count": 19,
   "metadata": {},
   "outputs": [
    {
     "name": "stdout",
     "output_type": "stream",
     "text": [
      "[ 1.]\n"
     ]
    }
   ],
   "source": [
    "############## Predicting Next Years Results\n",
    "X_2017 = X_prep[39:,:]\n",
    "# Predicting the Test set results\n",
    "y_pred = classifier.predict(X_2017)\n",
    "print(y_pred)"
   ]
  },
  {
   "cell_type": "code",
   "execution_count": 20,
   "metadata": {
    "collapsed": true
   },
   "outputs": [],
   "source": [
    "############################ Artifical Neural Network"
   ]
  },
  {
   "cell_type": "code",
   "execution_count": 21,
   "metadata": {},
   "outputs": [
    {
     "name": "stderr",
     "output_type": "stream",
     "text": [
      "Using TensorFlow backend.\n"
     ]
    }
   ],
   "source": [
    "# Import necessary modules\n",
    "import keras\n",
    "from keras.layers import Dense\n",
    "from keras.models import Sequential\n",
    "from keras.utils import to_categorical\n",
    "from keras.layers import Dropout\n",
    "from keras.callbacks import EarlyStopping"
   ]
  },
  {
   "cell_type": "code",
   "execution_count": 22,
   "metadata": {},
   "outputs": [
    {
     "name": "stderr",
     "output_type": "stream",
     "text": [
      "C:\\Users\\volak\\Anaconda3\\lib\\site-packages\\ipykernel_launcher.py:10: UserWarning: Update your `Dropout` call to the Keras 2 API: `Dropout(rate=0.1)`\n",
      "  # Remove the CWD from sys.path while we load stuff.\n",
      "C:\\Users\\volak\\Anaconda3\\lib\\site-packages\\ipykernel_launcher.py:14: UserWarning: Update your `Dropout` call to the Keras 2 API: `Dropout(rate=0.1)`\n",
      "  \n"
     ]
    }
   ],
   "source": [
    "### Setting up the Layers of the Neural Network\n",
    "#Set the number of features\n",
    "n_cols = X_train.shape[1]\n",
    "\n",
    "# Initialising the ANN\n",
    "classifier = Sequential()\n",
    "\n",
    "# Adding the input layer and the first hidden layer\n",
    "classifier.add(Dense(units = 1000, kernel_initializer = 'uniform', activation = 'relu', input_dim = n_cols))\n",
    "classifier.add(Dropout(p = 0.1))\n",
    "\n",
    "# Adding the second hidden layer\n",
    "classifier.add(Dense(units = 1000, kernel_initializer = 'uniform', activation = 'relu'))\n",
    "classifier.add(Dropout(p = 0.1))\n",
    "\n",
    "# Adding the output layer\n",
    "classifier.add(Dense(units = 1, kernel_initializer = 'uniform', activation = 'sigmoid'))\n",
    "\n",
    "# Compiling the ANN\n",
    "classifier.compile(optimizer = 'adam', loss = 'binary_crossentropy', metrics = ['accuracy'])\n"
   ]
  },
  {
   "cell_type": "code",
   "execution_count": 23,
   "metadata": {},
   "outputs": [
    {
     "name": "stdout",
     "output_type": "stream",
     "text": [
      "Epoch 1/100\n",
      "23/23 [==============================] - 6s - loss: 1.9042 - acc: 0.6957     \n",
      "Epoch 2/100\n",
      "23/23 [==============================] - 4s - loss: 2.2766 - acc: 0.7826     \n",
      "Epoch 3/100\n",
      "23/23 [==============================] - 3s - loss: 2.2278 - acc: 0.8261     \n",
      "Epoch 4/100\n",
      "23/23 [==============================] - 3s - loss: 2.1988 - acc: 0.8261     \n",
      "Epoch 5/100\n",
      "23/23 [==============================] - 3s - loss: 2.2087 - acc: 0.8261     \n",
      "Epoch 6/100\n",
      "23/23 [==============================] - 3s - loss: 2.2014 - acc: 0.8261     \n",
      "Epoch 7/100\n",
      "23/23 [==============================] - 3s - loss: 2.2121 - acc: 0.7391     \n",
      "Epoch 8/100\n",
      "23/23 [==============================] - 3s - loss: 2.1832 - acc: 0.8261     \n",
      "Epoch 9/100\n",
      "23/23 [==============================] - 3s - loss: 2.1656 - acc: 0.8261     \n",
      "Epoch 10/100\n",
      "23/23 [==============================] - 3s - loss: 2.1823 - acc: 0.8261     \n",
      "Epoch 11/100\n",
      "23/23 [==============================] - 3s - loss: 2.2427 - acc: 0.7391     \n",
      "Epoch 12/100\n",
      "23/23 [==============================] - 3s - loss: 2.1727 - acc: 0.8261     \n",
      "Epoch 13/100\n",
      "23/23 [==============================] - 3s - loss: 2.1798 - acc: 0.8261     \n",
      "Epoch 14/100\n",
      "23/23 [==============================] - 3s - loss: 2.1747 - acc: 0.8261     \n",
      "Epoch 15/100\n",
      "23/23 [==============================] - 3s - loss: 2.1644 - acc: 0.8261     \n",
      "Epoch 16/100\n",
      "23/23 [==============================] - 3s - loss: 2.1748 - acc: 0.8261     \n",
      "Epoch 17/100\n",
      "23/23 [==============================] - 3s - loss: 2.1679 - acc: 0.8261     \n",
      "Epoch 18/100\n",
      "23/23 [==============================] - 3s - loss: 2.1717 - acc: 0.8261     \n",
      "Epoch 19/100\n",
      "23/23 [==============================] - 3s - loss: 2.1644 - acc: 0.8261     \n",
      "Epoch 20/100\n",
      "23/23 [==============================] - 3s - loss: 2.1672 - acc: 0.8261     \n",
      "Epoch 21/100\n",
      "23/23 [==============================] - 3s - loss: 2.1690 - acc: 0.8261     \n",
      "Epoch 22/100\n",
      "23/23 [==============================] - 3s - loss: 2.1673 - acc: 0.8261     \n",
      "Epoch 23/100\n",
      "23/23 [==============================] - 3s - loss: 2.1760 - acc: 0.8261     \n",
      "Epoch 24/100\n",
      "23/23 [==============================] - 3s - loss: 2.1739 - acc: 0.8261     \n",
      "Epoch 25/100\n",
      "23/23 [==============================] - 3s - loss: 2.1854 - acc: 0.8261     \n",
      "Epoch 26/100\n",
      "23/23 [==============================] - 3s - loss: 2.1773 - acc: 0.8261     \n",
      "Epoch 27/100\n",
      "23/23 [==============================] - 3s - loss: 2.1659 - acc: 0.8261     \n",
      "Epoch 28/100\n",
      "23/23 [==============================] - 3s - loss: 2.1721 - acc: 0.8261     \n",
      "Epoch 29/100\n",
      "23/23 [==============================] - 3s - loss: 2.1663 - acc: 0.8261     \n",
      "Epoch 30/100\n",
      "23/23 [==============================] - 3s - loss: 2.1636 - acc: 0.8261     \n",
      "Epoch 31/100\n",
      "23/23 [==============================] - 3s - loss: 2.1674 - acc: 0.8261     \n",
      "Epoch 32/100\n",
      "23/23 [==============================] - 3s - loss: 2.1665 - acc: 0.8261     \n",
      "Epoch 33/100\n",
      "23/23 [==============================] - 3s - loss: 2.1680 - acc: 0.8261     \n",
      "Epoch 34/100\n",
      "23/23 [==============================] - 3s - loss: 2.1699 - acc: 0.8261     \n",
      "Epoch 35/100\n",
      "23/23 [==============================] - 3s - loss: 2.1650 - acc: 0.8261     \n",
      "Epoch 36/100\n",
      "23/23 [==============================] - 3s - loss: 2.1649 - acc: 0.8261     \n",
      "Epoch 37/100\n",
      "23/23 [==============================] - 3s - loss: 2.1651 - acc: 0.8261     \n",
      "Epoch 38/100\n",
      "23/23 [==============================] - 3s - loss: 2.1683 - acc: 0.8261     \n",
      "Epoch 39/100\n",
      "23/23 [==============================] - 3s - loss: 2.1717 - acc: 0.8261     \n",
      "Epoch 40/100\n",
      "23/23 [==============================] - 3s - loss: 2.1683 - acc: 0.8261     \n",
      "Epoch 41/100\n",
      "23/23 [==============================] - 3s - loss: 2.1715 - acc: 0.8261     \n",
      "Epoch 42/100\n",
      "23/23 [==============================] - 3s - loss: 2.1693 - acc: 0.8261     \n",
      "Epoch 43/100\n",
      "23/23 [==============================] - 3s - loss: 2.1739 - acc: 0.8261     \n",
      "Epoch 44/100\n",
      "23/23 [==============================] - 3s - loss: 2.1618 - acc: 0.8261     \n",
      "Epoch 45/100\n",
      "23/23 [==============================] - 3s - loss: 2.1617 - acc: 0.8261     \n",
      "Epoch 46/100\n",
      "23/23 [==============================] - 3s - loss: 2.1666 - acc: 0.8261     \n",
      "Epoch 47/100\n",
      "23/23 [==============================] - 3s - loss: 2.1644 - acc: 0.8261     \n",
      "Epoch 48/100\n",
      "23/23 [==============================] - 3s - loss: 2.1625 - acc: 0.8261     \n",
      "Epoch 49/100\n",
      "23/23 [==============================] - 3s - loss: 2.1672 - acc: 0.8261     \n",
      "Epoch 50/100\n",
      "23/23 [==============================] - 3s - loss: 2.1727 - acc: 0.8261     \n",
      "Epoch 51/100\n",
      "23/23 [==============================] - 3s - loss: 2.1651 - acc: 0.8261     \n",
      "Epoch 52/100\n",
      "23/23 [==============================] - 3s - loss: 2.1650 - acc: 0.8261     \n",
      "Epoch 53/100\n",
      "23/23 [==============================] - 3s - loss: 2.1649 - acc: 0.8261     \n",
      "Epoch 54/100\n",
      "23/23 [==============================] - 3s - loss: 2.1651 - acc: 0.8261     \n",
      "Epoch 55/100\n",
      "23/23 [==============================] - 3s - loss: 2.1633 - acc: 0.8261     \n",
      "Epoch 56/100\n",
      "23/23 [==============================] - 3s - loss: 2.1646 - acc: 0.8261     \n",
      "Epoch 57/100\n",
      "23/23 [==============================] - 3s - loss: 2.1640 - acc: 0.8261     \n",
      "Epoch 58/100\n",
      "23/23 [==============================] - 3s - loss: 2.1635 - acc: 0.8261     \n",
      "Epoch 59/100\n",
      "23/23 [==============================] - 3s - loss: 2.1659 - acc: 0.8261     \n",
      "Epoch 60/100\n",
      "23/23 [==============================] - 3s - loss: 2.1637 - acc: 0.8261     \n",
      "Epoch 61/100\n",
      "23/23 [==============================] - 3s - loss: 2.1707 - acc: 0.8261     \n",
      "Epoch 62/100\n",
      "23/23 [==============================] - 3s - loss: 2.1681 - acc: 0.8261     \n",
      "Epoch 63/100\n",
      "23/23 [==============================] - 3s - loss: 2.1673 - acc: 0.8261     \n",
      "Epoch 64/100\n",
      "23/23 [==============================] - 4s - loss: 2.1658 - acc: 0.8261     \n",
      "Epoch 65/100\n",
      "23/23 [==============================] - 4s - loss: 2.1582 - acc: 0.8261     \n",
      "Epoch 66/100\n",
      "23/23 [==============================] - 4s - loss: 2.1589 - acc: 0.8261     \n",
      "Epoch 67/100\n",
      "23/23 [==============================] - 4s - loss: 2.1701 - acc: 0.8261     \n",
      "Epoch 68/100\n",
      "23/23 [==============================] - 4s - loss: 2.1623 - acc: 0.8261     \n",
      "Epoch 69/100\n",
      "23/23 [==============================] - 4s - loss: 2.1661 - acc: 0.8261     \n",
      "Epoch 70/100\n",
      "23/23 [==============================] - 4s - loss: 2.1653 - acc: 0.8261     \n",
      "Epoch 71/100\n",
      "23/23 [==============================] - 3s - loss: 2.1676 - acc: 0.8261     \n",
      "Epoch 72/100\n",
      "23/23 [==============================] - 3s - loss: 2.1637 - acc: 0.8261     \n",
      "Epoch 73/100\n",
      "23/23 [==============================] - 3s - loss: 2.1629 - acc: 0.8261     \n",
      "Epoch 74/100\n",
      "23/23 [==============================] - 3s - loss: 2.1689 - acc: 0.8261     \n",
      "Epoch 75/100\n",
      "23/23 [==============================] - 3s - loss: 2.1651 - acc: 0.8261     \n",
      "Epoch 76/100\n",
      "23/23 [==============================] - 3s - loss: 2.1567 - acc: 0.8261     \n",
      "Epoch 77/100\n",
      "23/23 [==============================] - 3s - loss: 2.1665 - acc: 0.8261     \n",
      "Epoch 78/100\n",
      "23/23 [==============================] - 3s - loss: 2.1653 - acc: 0.8261     \n",
      "Epoch 79/100\n",
      "23/23 [==============================] - 3s - loss: 2.1636 - acc: 0.8261     \n",
      "Epoch 80/100\n",
      "23/23 [==============================] - 3s - loss: 2.1627 - acc: 0.8261     \n",
      "Epoch 81/100\n",
      "23/23 [==============================] - 3s - loss: 2.1653 - acc: 0.8261     \n",
      "Epoch 82/100\n",
      "23/23 [==============================] - 3s - loss: 2.1655 - acc: 0.8261     \n",
      "Epoch 83/100\n",
      "23/23 [==============================] - 3s - loss: 2.1754 - acc: 0.8261     \n",
      "Epoch 84/100\n",
      "23/23 [==============================] - 3s - loss: 2.1624 - acc: 0.8261     \n",
      "Epoch 85/100\n",
      "23/23 [==============================] - 3s - loss: 2.1543 - acc: 0.8261     \n",
      "Epoch 86/100\n",
      "23/23 [==============================] - 3s - loss: 2.1665 - acc: 0.8261     \n",
      "Epoch 87/100\n",
      "23/23 [==============================] - 3s - loss: 2.1614 - acc: 0.8261     \n",
      "Epoch 88/100\n",
      "23/23 [==============================] - 3s - loss: 2.1488 - acc: 0.8261     \n",
      "Epoch 89/100\n",
      "23/23 [==============================] - 3s - loss: 2.1729 - acc: 0.8261     \n",
      "Epoch 90/100\n",
      "23/23 [==============================] - 3s - loss: 2.1647 - acc: 0.8261     \n",
      "Epoch 91/100\n"
     ]
    },
    {
     "name": "stdout",
     "output_type": "stream",
     "text": [
      "23/23 [==============================] - 3s - loss: 2.1631 - acc: 0.8261     \n",
      "Epoch 92/100\n",
      "23/23 [==============================] - 3s - loss: 2.1630 - acc: 0.8261     \n",
      "Epoch 93/100\n",
      "23/23 [==============================] - 3s - loss: 2.1642 - acc: 0.8261     \n",
      "Epoch 94/100\n",
      "23/23 [==============================] - 3s - loss: 2.1662 - acc: 0.8261     \n",
      "Epoch 95/100\n",
      "23/23 [==============================] - 3s - loss: 2.1721 - acc: 0.8261     \n",
      "Epoch 96/100\n",
      "23/23 [==============================] - 3s - loss: 2.1716 - acc: 0.8261     \n",
      "Epoch 97/100\n",
      "23/23 [==============================] - 3s - loss: 2.1708 - acc: 0.8261     \n",
      "Epoch 98/100\n",
      "23/23 [==============================] - 3s - loss: 2.1632 - acc: 0.8261     \n",
      "Epoch 99/100\n",
      "23/23 [==============================] - 3s - loss: 2.1619 - acc: 0.8261     \n",
      "Epoch 100/100\n",
      "23/23 [==============================] - 3s - loss: 2.1679 - acc: 0.8261     \n"
     ]
    },
    {
     "data": {
      "text/plain": [
       "<keras.callbacks.History at 0x15f986b2fd0>"
      ]
     },
     "execution_count": 23,
     "metadata": {},
     "output_type": "execute_result"
    }
   ],
   "source": [
    "# Fitting the ANN to the Training set\n",
    "classifier.fit(X_train, y_train, batch_size = 2, epochs = 100)"
   ]
  },
  {
   "cell_type": "code",
   "execution_count": 24,
   "metadata": {
    "collapsed": true
   },
   "outputs": [],
   "source": [
    "# Predicting the Test set results\n",
    "y_pred = classifier.predict(X_test)\n",
    "y_pred = (y_pred > 0.5)\n",
    "\n",
    "# Making the Confusion Matrix\n",
    "import scipy.stats as stats\n",
    "import sklearn\n",
    "from sklearn.metrics import confusion_matrix\n",
    "cm = confusion_matrix(y_test, y_pred)"
   ]
  },
  {
   "cell_type": "code",
   "execution_count": 25,
   "metadata": {},
   "outputs": [
    {
     "name": "stdout",
     "output_type": "stream",
     "text": [
      "0.75\n",
      "0.733333333333\n",
      "1.0\n",
      "0.846153846154\n"
     ]
    }
   ],
   "source": [
    "from sklearn.metrics import accuracy_score, precision_score, recall_score, f1_score\n",
    "print(accuracy_score(y_test, y_pred))\n",
    "print(precision_score(y_test, y_pred))\n",
    "print(recall_score(y_test, y_pred))\n",
    "print(f1_score(y_test,y_pred))"
   ]
  },
  {
   "cell_type": "code",
   "execution_count": 26,
   "metadata": {},
   "outputs": [
    {
     "name": "stdout",
     "output_type": "stream",
     "text": [
      "[[ 1.]]\n"
     ]
    }
   ],
   "source": [
    "############## Predicting Next Years Results\n",
    "X_2017 = X_prep[39:,:]\n",
    "# Predicting the Test set results\n",
    "y_pred = classifier.predict(X_2017)\n",
    "print(y_pred)"
   ]
  },
  {
   "cell_type": "markdown",
   "metadata": {},
   "source": [
    "## Fitting Regression ML Algorithms"
   ]
  },
  {
   "cell_type": "code",
   "execution_count": 27,
   "metadata": {
    "collapsed": true
   },
   "outputs": [],
   "source": [
    "## Change to regression response "
   ]
  },
  {
   "cell_type": "code",
   "execution_count": 28,
   "metadata": {
    "collapsed": true
   },
   "outputs": [],
   "source": [
    "response = target['NextYearBVReturn']\n",
    "response = pd.DataFrame(response)\n",
    "y = response.iloc[12:-1,:].values"
   ]
  },
  {
   "cell_type": "code",
   "execution_count": 29,
   "metadata": {
    "collapsed": true
   },
   "outputs": [],
   "source": [
    "################################# SPLIT TRAINING AND TESTING SET\n",
    "# Splitting the dataset into the Training set and Test set\n",
    "from sklearn.model_selection import train_test_split\n",
    "X_train, X_test, y_train, y_test = train_test_split(X, y, test_size = 0.40, random_state = 0)\n",
    "\n"
   ]
  },
  {
   "cell_type": "code",
   "execution_count": 30,
   "metadata": {
    "collapsed": true
   },
   "outputs": [],
   "source": [
    "############################### REGRESSION \n",
    "from sklearn.linear_model import LinearRegression\n",
    "regressor = LinearRegression()\n",
    "regressor.fit(X_train, y_train)\n",
    "# Predicting the Test set results\n",
    "y_pred = regressor.predict(X_test)"
   ]
  },
  {
   "cell_type": "code",
   "execution_count": 31,
   "metadata": {},
   "outputs": [
    {
     "name": "stdout",
     "output_type": "stream",
     "text": [
      "2.42126907925e+13\n",
      "1.39172757715e+27\n",
      "3.73058651843e+13\n"
     ]
    }
   ],
   "source": [
    "############## Calculating Errors\n",
    "#Mean Absolute Error\n",
    "from sklearn.metrics import mean_absolute_error\n",
    "mae = mean_absolute_error(y_test, y_pred, sample_weight=None, multioutput='uniform_average')\n",
    "print(mae)\n",
    "\n",
    "# Mean Square Error & ROOT RMSE\n",
    "from sklearn.metrics import mean_squared_error\n",
    "mse = mean_squared_error(y_test, y_pred, sample_weight=None, multioutput='uniform_average')\n",
    "print(mse)\n",
    "rmse = np.sqrt(mse)\n",
    "print(rmse)\n"
   ]
  },
  {
   "cell_type": "code",
   "execution_count": 32,
   "metadata": {},
   "outputs": [
    {
     "name": "stderr",
     "output_type": "stream",
     "text": [
      "C:\\Users\\volak\\Anaconda3\\lib\\site-packages\\ipykernel_launcher.py:4: DataConversionWarning: A column-vector y was passed when a 1d array was expected. Please change the shape of y to (n_samples,), for example using ravel().\n",
      "  after removing the cwd from sys.path.\n"
     ]
    }
   ],
   "source": [
    "############################### RANDOM FOREST\n",
    "from sklearn.ensemble import RandomForestRegressor\n",
    "regressor = RandomForestRegressor(n_estimators = 1000, random_state = 0)\n",
    "regressor.fit(X_train, y_train)\n",
    "\n",
    "# Predicting the Test set results\n",
    "y_pred = regressor.predict(X_test)"
   ]
  },
  {
   "cell_type": "code",
   "execution_count": 33,
   "metadata": {},
   "outputs": [
    {
     "name": "stdout",
     "output_type": "stream",
     "text": [
      "11.5913505977\n",
      "220.406045556\n",
      "14.8460784572\n"
     ]
    }
   ],
   "source": [
    "#Mean Absolute Error\n",
    "from sklearn.metrics import mean_absolute_error\n",
    "mae = mean_absolute_error(y_test, y_pred, sample_weight=None, multioutput='uniform_average')\n",
    "print(mae)\n",
    "\n",
    "# Mean Square Error & ROOT RMSE\n",
    "from sklearn.metrics import mean_squared_error\n",
    "mse = mean_squared_error(y_test, y_pred, sample_weight=None, multioutput='uniform_average')\n",
    "print(mse)\n",
    "rmse = np.sqrt(mse)\n",
    "print(rmse)\n"
   ]
  },
  {
   "cell_type": "code",
   "execution_count": 34,
   "metadata": {},
   "outputs": [
    {
     "name": "stdout",
     "output_type": "stream",
     "text": [
      "[ 21.99940167]\n"
     ]
    }
   ],
   "source": [
    "############## Predicting Next Years Results\n",
    "X_2017 = X_prep[39:,:]\n",
    "# Predicting the Test set results\n",
    "y_pred = regressor.predict(X_2017)\n",
    "print(y_pred)"
   ]
  },
  {
   "cell_type": "code",
   "execution_count": 35,
   "metadata": {},
   "outputs": [
    {
     "name": "stderr",
     "output_type": "stream",
     "text": [
      "C:\\Users\\volak\\Anaconda3\\lib\\site-packages\\sklearn\\utils\\validation.py:526: DataConversionWarning: A column-vector y was passed when a 1d array was expected. Please change the shape of y to (n_samples, ), for example using ravel().\n",
      "  y = column_or_1d(y, warn=True)\n"
     ]
    }
   ],
   "source": [
    "############################### Support Vector Regression\n",
    "from sklearn.svm import SVR\n",
    "regressor = SVR(kernel = 'rbf')\n",
    "regressor.fit(X_train, y_train)\n",
    "\n",
    "\n",
    "y_pred = regressor.predict(X_test)"
   ]
  },
  {
   "cell_type": "code",
   "execution_count": 36,
   "metadata": {},
   "outputs": [
    {
     "name": "stdout",
     "output_type": "stream",
     "text": [
      "10.5375636856\n",
      "177.479569263\n",
      "13.3221458205\n"
     ]
    }
   ],
   "source": [
    "#Mean Absolute Error\n",
    "from sklearn.metrics import mean_absolute_error\n",
    "mae = mean_absolute_error(y_test, y_pred, sample_weight=None, multioutput='uniform_average')\n",
    "print(mae)\n",
    "\n",
    "# Mean Square Error & ROOT RMSE\n",
    "from sklearn.metrics import mean_squared_error\n",
    "mse = mean_squared_error(y_test, y_pred, sample_weight=None, multioutput='uniform_average')\n",
    "print(mse)\n",
    "rmse = np.sqrt(mse)\n",
    "print(rmse)\n"
   ]
  },
  {
   "cell_type": "code",
   "execution_count": 37,
   "metadata": {},
   "outputs": [
    {
     "name": "stdout",
     "output_type": "stream",
     "text": [
      "[ 19.42229207]\n"
     ]
    }
   ],
   "source": [
    "############## Predicting Next Years Results\n",
    "X_2017 = X_prep[39:,:]\n",
    "# Predicting the Test set results\n",
    "y_pred = regressor.predict(X_2017)\n",
    "print(y_pred)"
   ]
  },
  {
   "cell_type": "code",
   "execution_count": 38,
   "metadata": {},
   "outputs": [
    {
     "name": "stderr",
     "output_type": "stream",
     "text": [
      "C:\\Users\\volak\\Anaconda3\\lib\\site-packages\\sklearn\\cross_validation.py:44: DeprecationWarning: This module was deprecated in version 0.18 in favor of the model_selection module into which all the refactored classes and functions are moved. Also note that the interface of the new CV iterators are different from that of this module. This module will be removed in 0.20.\n",
      "  \"This module will be removed in 0.20.\", DeprecationWarning)\n",
      "C:\\Users\\volak\\Anaconda3\\lib\\site-packages\\sklearn\\preprocessing\\label.py:112: DataConversionWarning: A column-vector y was passed when a 1d array was expected. Please change the shape of y to (n_samples, ), for example using ravel().\n",
      "  y = column_or_1d(y, warn=True)\n",
      "C:\\Users\\volak\\Anaconda3\\lib\\site-packages\\sklearn\\preprocessing\\label.py:147: DataConversionWarning: A column-vector y was passed when a 1d array was expected. Please change the shape of y to (n_samples, ), for example using ravel().\n",
      "  y = column_or_1d(y, warn=True)\n"
     ]
    }
   ],
   "source": [
    "###############################  Fitting XGBoost to the Training set\n",
    "from xgboost import XGBClassifier\n",
    "classifier = XGBClassifier()\n",
    "classifier.fit(X_train, y_train)\n",
    "\n",
    "# Predicting the Test set results\n",
    "y_pred = classifier.predict(X_test)"
   ]
  },
  {
   "cell_type": "code",
   "execution_count": 39,
   "metadata": {},
   "outputs": [
    {
     "name": "stdout",
     "output_type": "stream",
     "text": [
      "29.56875\n",
      "1056.319375\n",
      "32.5010672902\n"
     ]
    }
   ],
   "source": [
    "#Mean Absolute Error\n",
    "from sklearn.metrics import mean_absolute_error\n",
    "mae = mean_absolute_error(y_test, y_pred, sample_weight=None, multioutput='uniform_average')\n",
    "print(mae)\n",
    "\n",
    "# Mean Square Error & ROOT RMSE\n",
    "from sklearn.metrics import mean_squared_error\n",
    "mse = mean_squared_error(y_test, y_pred, sample_weight=None, multioutput='uniform_average')\n",
    "print(mse)\n",
    "rmse = np.sqrt(mse)\n",
    "print(rmse)"
   ]
  },
  {
   "cell_type": "code",
   "execution_count": 40,
   "metadata": {},
   "outputs": [
    {
     "name": "stdout",
     "output_type": "stream",
     "text": [
      "[ 19.42229207]\n"
     ]
    }
   ],
   "source": [
    "############## Predicting Next Years Results\n",
    "X_2017 = X_prep[39:,:]\n",
    "# Predicting the Test set results\n",
    "y_pred = regressor.predict(X_2017)\n",
    "print(y_pred)"
   ]
  },
  {
   "cell_type": "code",
   "execution_count": 41,
   "metadata": {
    "collapsed": true
   },
   "outputs": [],
   "source": [
    "###############################  Neural Network\n",
    "########## NEURAL NETWORKS Importing the Keras libraries and packages\n",
    "import keras\n",
    "from keras.models import Sequential\n",
    "from keras.layers import Dense\n",
    "from keras.layers import Dropout"
   ]
  },
  {
   "cell_type": "code",
   "execution_count": 42,
   "metadata": {},
   "outputs": [
    {
     "name": "stderr",
     "output_type": "stream",
     "text": [
      "C:\\Users\\volak\\Anaconda3\\lib\\site-packages\\ipykernel_launcher.py:7: UserWarning: Update your `Dense` call to the Keras 2 API: `Dense(units=1000, kernel_initializer=\"normal\", activation=\"relu\", input_dim=8084)`\n",
      "  import sys\n",
      "C:\\Users\\volak\\Anaconda3\\lib\\site-packages\\ipykernel_launcher.py:8: UserWarning: Update your `Dropout` call to the Keras 2 API: `Dropout(rate=0.1)`\n",
      "  \n",
      "C:\\Users\\volak\\Anaconda3\\lib\\site-packages\\ipykernel_launcher.py:11: UserWarning: Update your `Dense` call to the Keras 2 API: `Dense(units=1000, kernel_initializer=\"normal\", activation=\"relu\")`\n",
      "  # This is added back by InteractiveShellApp.init_path()\n",
      "C:\\Users\\volak\\Anaconda3\\lib\\site-packages\\ipykernel_launcher.py:12: UserWarning: Update your `Dropout` call to the Keras 2 API: `Dropout(rate=0.1)`\n",
      "  if sys.path[0] == '':\n",
      "C:\\Users\\volak\\Anaconda3\\lib\\site-packages\\ipykernel_launcher.py:16: UserWarning: Update your `Dense` call to the Keras 2 API: `Dense(units=1, kernel_initializer=\"normal\")`\n",
      "  app.launch_new_instance()\n"
     ]
    }
   ],
   "source": [
    "#Set the number of features\n",
    "n_cols = X_train.shape[1]\n",
    "# Initialising the ANN\n",
    "model = Sequential()\n",
    "\n",
    "# Adding the input layer and the first hidden layer\n",
    "model.add(Dense(output_dim = 1000, init = 'normal', activation = 'relu', input_dim = n_cols))\n",
    "model.add(Dropout(p=0.1))\n",
    "\n",
    "# Adding the second hidden layer\n",
    "model.add(Dense(output_dim = 1000, init = 'normal', activation = 'relu'))\n",
    "model.add(Dropout(p=0.1))\n",
    "\n",
    "\n",
    "# Adding the output layer\n",
    "model.add(Dense(output_dim = 1, init = 'normal'))\n",
    "\"\"\"No activation function is used for the output layer because it is a regression problem\"\"\"\n",
    "\n",
    "# Compiling the ANN\n",
    "model.compile(optimizer = 'adam', loss = 'mean_absolute_error')"
   ]
  },
  {
   "cell_type": "code",
   "execution_count": 43,
   "metadata": {},
   "outputs": [
    {
     "name": "stderr",
     "output_type": "stream",
     "text": [
      "C:\\Users\\volak\\Anaconda3\\lib\\site-packages\\keras\\models.py:844: UserWarning: The `nb_epoch` argument in `fit` has been renamed `epochs`.\n",
      "  warnings.warn('The `nb_epoch` argument in `fit` '\n"
     ]
    },
    {
     "name": "stdout",
     "output_type": "stream",
     "text": [
      "Epoch 1/100\n",
      "23/23 [==============================] - 9s - loss: 69.1082     \n",
      "Epoch 2/100\n",
      "23/23 [==============================] - 7s - loss: 51.7417     \n",
      "Epoch 3/100\n",
      "23/23 [==============================] - 7s - loss: 17.6654     \n",
      "Epoch 4/100\n",
      "23/23 [==============================] - 7s - loss: 23.5423     \n",
      "Epoch 5/100\n",
      "23/23 [==============================] - 7s - loss: 17.4336     \n",
      "Epoch 6/100\n",
      "23/23 [==============================] - 6s - loss: 15.1005     \n",
      "Epoch 7/100\n",
      "23/23 [==============================] - 6s - loss: 26.7072     \n",
      "Epoch 8/100\n",
      "23/23 [==============================] - 6s - loss: 18.1039     \n",
      "Epoch 9/100\n",
      "23/23 [==============================] - 7s - loss: 12.5946     \n",
      "Epoch 10/100\n",
      "23/23 [==============================] - 6s - loss: 15.9097     \n",
      "Epoch 11/100\n",
      "23/23 [==============================] - 6s - loss: 16.8279     \n",
      "Epoch 12/100\n",
      "23/23 [==============================] - 7s - loss: 11.6019     \n",
      "Epoch 13/100\n",
      "23/23 [==============================] - 6s - loss: 8.9798     \n",
      "Epoch 14/100\n",
      "23/23 [==============================] - 6s - loss: 9.0898     \n",
      "Epoch 15/100\n",
      "23/23 [==============================] - 6s - loss: 8.5572     \n",
      "Epoch 16/100\n",
      "23/23 [==============================] - 6s - loss: 12.5685     \n",
      "Epoch 17/100\n",
      "23/23 [==============================] - 6s - loss: 11.6673     \n",
      "Epoch 18/100\n",
      "23/23 [==============================] - 7s - loss: 10.6380     \n",
      "Epoch 19/100\n",
      "23/23 [==============================] - 6s - loss: 10.7134     \n",
      "Epoch 20/100\n",
      "23/23 [==============================] - 6s - loss: 7.6389     \n",
      "Epoch 21/100\n",
      "23/23 [==============================] - 7s - loss: 7.7547     \n",
      "Epoch 22/100\n",
      "23/23 [==============================] - 7s - loss: 6.6606     \n",
      "Epoch 23/100\n",
      "23/23 [==============================] - 7s - loss: 5.6336     \n",
      "Epoch 24/100\n",
      "23/23 [==============================] - 7s - loss: 5.6377     \n",
      "Epoch 25/100\n",
      "23/23 [==============================] - 7s - loss: 5.9546     \n",
      "Epoch 26/100\n",
      "23/23 [==============================] - 7s - loss: 7.3884     \n",
      "Epoch 27/100\n",
      "23/23 [==============================] - 7s - loss: 9.5720     \n",
      "Epoch 28/100\n",
      "23/23 [==============================] - 7s - loss: 8.1472     \n",
      "Epoch 29/100\n",
      "23/23 [==============================] - 7s - loss: 7.4579     \n",
      "Epoch 30/100\n",
      "23/23 [==============================] - 7s - loss: 6.2639     \n",
      "Epoch 31/100\n",
      "23/23 [==============================] - 7s - loss: 8.1911     \n",
      "Epoch 32/100\n",
      "23/23 [==============================] - 7s - loss: 6.6492     \n",
      "Epoch 33/100\n",
      "23/23 [==============================] - 7s - loss: 7.0378     \n",
      "Epoch 34/100\n",
      "23/23 [==============================] - 7s - loss: 5.5665     \n",
      "Epoch 35/100\n",
      "23/23 [==============================] - 7s - loss: 4.3104     \n",
      "Epoch 36/100\n",
      "23/23 [==============================] - 7s - loss: 6.2351     \n",
      "Epoch 37/100\n",
      "23/23 [==============================] - 7s - loss: 6.1223     \n",
      "Epoch 38/100\n",
      "23/23 [==============================] - 7s - loss: 5.1349     \n",
      "Epoch 39/100\n",
      "23/23 [==============================] - 7s - loss: 6.8625     \n",
      "Epoch 40/100\n",
      "23/23 [==============================] - 7s - loss: 5.8241     \n",
      "Epoch 41/100\n",
      "23/23 [==============================] - 7s - loss: 4.5554     \n",
      "Epoch 42/100\n",
      "23/23 [==============================] - 7s - loss: 6.9519     \n",
      "Epoch 43/100\n",
      "23/23 [==============================] - 7s - loss: 6.2336     \n",
      "Epoch 44/100\n",
      "23/23 [==============================] - 7s - loss: 4.5554     \n",
      "Epoch 45/100\n",
      "23/23 [==============================] - 7s - loss: 5.4112     \n",
      "Epoch 46/100\n",
      "23/23 [==============================] - 7s - loss: 5.4296     \n",
      "Epoch 47/100\n",
      "23/23 [==============================] - 7s - loss: 5.4837     \n",
      "Epoch 48/100\n",
      "23/23 [==============================] - 7s - loss: 6.1308     \n",
      "Epoch 49/100\n",
      "23/23 [==============================] - 7s - loss: 5.4916     \n",
      "Epoch 50/100\n",
      "23/23 [==============================] - 7s - loss: 4.3806     \n",
      "Epoch 51/100\n",
      "23/23 [==============================] - 7s - loss: 5.3055     \n",
      "Epoch 52/100\n",
      "23/23 [==============================] - 7s - loss: 4.8973     \n",
      "Epoch 53/100\n",
      "23/23 [==============================] - 7s - loss: 7.3136     \n",
      "Epoch 54/100\n",
      "23/23 [==============================] - 7s - loss: 5.7798     \n",
      "Epoch 55/100\n",
      "23/23 [==============================] - 7s - loss: 4.7772     \n",
      "Epoch 56/100\n",
      "23/23 [==============================] - 7s - loss: 5.4340     \n",
      "Epoch 57/100\n",
      "23/23 [==============================] - 7s - loss: 8.2223     \n",
      "Epoch 58/100\n",
      "23/23 [==============================] - 7s - loss: 5.3001     \n",
      "Epoch 59/100\n",
      "23/23 [==============================] - 7s - loss: 4.4681     \n",
      "Epoch 60/100\n",
      "23/23 [==============================] - 7s - loss: 5.6122     \n",
      "Epoch 61/100\n",
      "23/23 [==============================] - 7s - loss: 5.6020     \n",
      "Epoch 62/100\n",
      "23/23 [==============================] - 7s - loss: 4.7247     \n",
      "Epoch 63/100\n",
      "23/23 [==============================] - 7s - loss: 5.1175     \n",
      "Epoch 64/100\n",
      "23/23 [==============================] - 7s - loss: 4.0406     \n",
      "Epoch 65/100\n",
      "23/23 [==============================] - 7s - loss: 6.2602     \n",
      "Epoch 66/100\n",
      "23/23 [==============================] - 8s - loss: 4.9679     \n",
      "Epoch 67/100\n",
      "23/23 [==============================] - 8s - loss: 5.4521     \n",
      "Epoch 68/100\n",
      "23/23 [==============================] - 7s - loss: 5.0883     \n",
      "Epoch 69/100\n",
      "23/23 [==============================] - 7s - loss: 5.2068     \n",
      "Epoch 70/100\n",
      "23/23 [==============================] - 7s - loss: 4.9252     \n",
      "Epoch 71/100\n",
      "23/23 [==============================] - 7s - loss: 4.3862     \n",
      "Epoch 72/100\n",
      "23/23 [==============================] - 7s - loss: 5.4622     \n",
      "Epoch 73/100\n",
      "23/23 [==============================] - 7s - loss: 5.2756     \n",
      "Epoch 74/100\n",
      "23/23 [==============================] - 7s - loss: 4.0119     \n",
      "Epoch 75/100\n",
      "23/23 [==============================] - 7s - loss: 4.6026     \n",
      "Epoch 76/100\n",
      "23/23 [==============================] - 7s - loss: 4.9740     \n",
      "Epoch 77/100\n",
      "23/23 [==============================] - 7s - loss: 3.9404     \n",
      "Epoch 78/100\n",
      "23/23 [==============================] - 7s - loss: 4.3824     \n",
      "Epoch 79/100\n",
      "23/23 [==============================] - 7s - loss: 5.9830     \n",
      "Epoch 80/100\n",
      "23/23 [==============================] - 7s - loss: 8.4469     \n",
      "Epoch 81/100\n",
      "23/23 [==============================] - 7s - loss: 6.1685     \n",
      "Epoch 82/100\n",
      "23/23 [==============================] - 6s - loss: 3.8698     \n",
      "Epoch 83/100\n",
      "23/23 [==============================] - 6s - loss: 6.3588     \n",
      "Epoch 84/100\n",
      "23/23 [==============================] - 6s - loss: 5.0845     \n",
      "Epoch 85/100\n",
      "23/23 [==============================] - 6s - loss: 4.8283     \n",
      "Epoch 86/100\n",
      "23/23 [==============================] - 6s - loss: 5.1156     \n",
      "Epoch 87/100\n",
      "23/23 [==============================] - 7s - loss: 4.1393     \n",
      "Epoch 88/100\n",
      "23/23 [==============================] - 7s - loss: 5.7162     \n",
      "Epoch 89/100\n",
      "23/23 [==============================] - 6s - loss: 4.6836     \n",
      "Epoch 90/100\n",
      "23/23 [==============================] - 6s - loss: 4.6605     \n",
      "Epoch 91/100\n",
      "23/23 [==============================] - 6s - loss: 4.3227     \n",
      "Epoch 92/100\n",
      "23/23 [==============================] - 6s - loss: 5.6186     \n",
      "Epoch 93/100\n",
      "23/23 [==============================] - 6s - loss: 5.2037     \n",
      "Epoch 94/100\n",
      "23/23 [==============================] - 7s - loss: 4.0664     \n",
      "Epoch 95/100\n",
      "23/23 [==============================] - 6s - loss: 4.6704     \n",
      "Epoch 96/100\n",
      "23/23 [==============================] - 6s - loss: 3.8071     \n",
      "Epoch 97/100\n",
      "23/23 [==============================] - 6s - loss: 4.8214     \n",
      "Epoch 98/100\n",
      "23/23 [==============================] - 6s - loss: 4.8785     \n",
      "Epoch 99/100\n",
      "23/23 [==============================] - 7s - loss: 4.9149     \n",
      "Epoch 100/100\n",
      "23/23 [==============================] - 7s - loss: 4.6204     \n"
     ]
    },
    {
     "data": {
      "text/plain": [
       "<keras.callbacks.History at 0x15fa50e3908>"
      ]
     },
     "execution_count": 43,
     "metadata": {},
     "output_type": "execute_result"
    }
   ],
   "source": [
    "# Fitting the ANN to the Training set\n",
    "model.fit(X_train, y_train, batch_size = 1, nb_epoch = 100)"
   ]
  },
  {
   "cell_type": "code",
   "execution_count": 44,
   "metadata": {
    "collapsed": true
   },
   "outputs": [],
   "source": [
    "# Predicting the Test set results\n",
    "y_pred = model.predict(X_test)"
   ]
  },
  {
   "cell_type": "code",
   "execution_count": 45,
   "metadata": {},
   "outputs": [
    {
     "name": "stdout",
     "output_type": "stream",
     "text": [
      "9.12606871352\n",
      "143.73871944\n",
      "11.9891083672\n"
     ]
    }
   ],
   "source": [
    "#Mean Absolute Error\n",
    "from sklearn.metrics import mean_absolute_error\n",
    "mae = mean_absolute_error(y_test, y_pred, sample_weight=None, multioutput='uniform_average')\n",
    "print(mae)\n",
    "\n",
    "# Mean Square Error & ROOT RMSE\n",
    "from sklearn.metrics import mean_squared_error\n",
    "mse = mean_squared_error(y_test, y_pred, sample_weight=None, multioutput='uniform_average')\n",
    "print(mse)\n",
    "rmse = np.sqrt(mse)\n",
    "print(rmse)\n"
   ]
  },
  {
   "cell_type": "code",
   "execution_count": 46,
   "metadata": {},
   "outputs": [
    {
     "name": "stdout",
     "output_type": "stream",
     "text": [
      "[ 19.42229207]\n"
     ]
    }
   ],
   "source": [
    "############## Predicting Next Years Results\n",
    "X_2017 = X_prep[39:,:]\n",
    "# Predicting the Test set results\n",
    "y_pred = regressor.predict(X_2017)\n",
    "print(y_pred)"
   ]
  },
  {
   "cell_type": "markdown",
   "metadata": {
    "collapsed": true
   },
   "source": []
  },
  {
   "cell_type": "code",
   "execution_count": null,
   "metadata": {
    "collapsed": true
   },
   "outputs": [],
   "source": []
  },
  {
   "cell_type": "code",
   "execution_count": null,
   "metadata": {
    "collapsed": true
   },
   "outputs": [],
   "source": []
  },
  {
   "cell_type": "code",
   "execution_count": null,
   "metadata": {
    "collapsed": true
   },
   "outputs": [],
   "source": []
  }
 ],
 "metadata": {
  "kernelspec": {
   "display_name": "Python 3",
   "language": "python",
   "name": "python3"
  },
  "language_info": {
   "codemirror_mode": {
    "name": "ipython",
    "version": 3
   },
   "file_extension": ".py",
   "mimetype": "text/x-python",
   "name": "python",
   "nbconvert_exporter": "python",
   "pygments_lexer": "ipython3",
   "version": "3.6.1"
  }
 },
 "nbformat": 4,
 "nbformat_minor": 2
}
